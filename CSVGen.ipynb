{
 "cells": [
  {
   "cell_type": "code",
   "execution_count": 4,
   "metadata": {},
   "outputs": [],
   "source": [
    "import anndata as ad\n",
    "import pandas as pd\n",
    "import matplotlib.pyplot as plt\n",
    "import scanpy as sc"
   ]
  },
  {
   "cell_type": "code",
   "execution_count": 11,
   "metadata": {},
   "outputs": [],
   "source": [
    "adata_C = ad.read_h5ad('adata_C_FINAL.h5ad')"
   ]
  },
  {
   "cell_type": "code",
   "execution_count": 12,
   "metadata": {},
   "outputs": [],
   "source": [
    "# Assuming adata_C is your anndata object\n",
    "TMA_counts = adata_C.obs['batch'].value_counts()\n",
    "\n",
    "# Convert the counts to a DataFrame\n",
    "TMA_counts_df = TMA_counts.reset_index()\n",
    "TMA_counts_df.columns = ['TMA', 'Cell Count']\n",
    "\n",
    "# Save the DataFrame to a CSV file\n",
    "TMA_counts_df.to_csv('TMA_counts.csv', index=False)"
   ]
  },
  {
   "cell_type": "code",
   "execution_count": 14,
   "metadata": {},
   "outputs": [],
   "source": [
    "# Assuming adata_C is your anndata object\n",
    "niche_counts = adata_C.obs['nicheCollapsed'].value_counts()\n",
    "\n",
    "# Convert the counts to a DataFrame\n",
    "niche_counts_df = niche_counts.reset_index()\n",
    "niche_counts_df.columns = ['Niche', 'Cell Count']\n",
    "\n",
    "# Save the DataFrame to a CSV file\n",
    "niche_counts_df.to_csv('niche_counts.csv', index=False)"
   ]
  }
 ],
 "metadata": {
  "kernelspec": {
   "display_name": "rsc_conda",
   "language": "python",
   "name": "python3"
  },
  "language_info": {
   "codemirror_mode": {
    "name": "ipython",
    "version": 3
   },
   "file_extension": ".py",
   "mimetype": "text/x-python",
   "name": "python",
   "nbconvert_exporter": "python",
   "pygments_lexer": "ipython3",
   "version": "3.10.13"
  }
 },
 "nbformat": 4,
 "nbformat_minor": 2
}
